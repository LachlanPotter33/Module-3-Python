{
 "cells": [
  {
   "cell_type": "code",
   "execution_count": 9,
   "id": "db92ccd0-9d43-4ed8-a0cb-85c5725c0b71",
   "metadata": {
    "tags": []
   },
   "outputs": [],
   "source": [
    "import os\n",
    "\n",
    "import csv"
   ]
  },
  {
   "cell_type": "code",
   "execution_count": 10,
   "id": "9868ac43-200a-4975-bc1b-59bfd96499dc",
   "metadata": {
    "tags": []
   },
   "outputs": [
    {
     "name": "stdout",
     "output_type": "stream",
     "text": [
      "<_csv.reader object at 0x000002465D9F52A0>\n"
     ]
    }
   ],
   "source": [
    "#Financial_Analysis = os.path.join('Financial_Analysis.txt')\n",
    "csv_path = os.path.join('Resources','budget_data.csv')\n",
    "with open(csv_path) as csv_file:\n",
    "\n",
    "    csv_reader = csv.reader(csv_file, delimiter=',')\n",
    "    print(csv_reader)\n",
    "    csv_header = next(csv_reader)\n",
    "\n",
    "    #Take total numer of months\n",
    "    changes = []\n",
    "    total_months = 0\n",
    "    total_pl = 0 \n",
    "    rows = []\n",
    "    for row in csv_reader:\n",
    "        \n",
    "        total_months += 1\n",
    "        total_pl += float(row[1])\n",
    "        new_month = row[1]\n",
    "        rows.append(row)\n",
    "        \n",
    "        if total_months > 1 :\n",
    "            changes.append(float(new_month) - float(old_month))\n",
    "        old_month = row[1]\n",
    "    \n",
    "    greatest_inc_value = max(changes)\n",
    "    greatest_inc_index = changes.index(greatest_inc_value)\n",
    "    greatest_inc_month = rows[greatest_inc_index+1][0]\n",
    "\n",
    "    greatest_dec_value = min(changes)\n",
    "    greatest_dec_index = changes.index(greatest_dec_value)\n",
    "    greatest_dec_month = rows[greatest_dec_index+1][0]\n",
    "\n",
    "    average_change = sum(changes)/len(changes)"
   ]
  },
  {
   "cell_type": "code",
   "execution_count": 11,
   "id": "e69527f2-8842-4bed-abbb-677cea4ae5a1",
   "metadata": {
    "tags": []
   },
   "outputs": [
    {
     "name": "stdout",
     "output_type": "stream",
     "text": [
      "Financial_Analysis\n",
      "=======================\n",
      "\n",
      "Total Months:  86\n",
      "Total: $22564198\n",
      "Average Change: $-8311.11\n",
      "Greatest Increase in Profits: Aug-16 $1862002\n",
      "Greatest Decrease in Profits: Feb-14 $-1825558\n"
     ]
    }
   ],
   "source": [
    "print(\"Financial_Analysis\")\n",
    "print(\"=======================\\n\")\n",
    "print(\"Total Months: \", total_months)\n",
    "print(f\"Total: ${total_pl:.0f}\")\n",
    "print(f\"Average Change: ${average_change:.2f}\")\n",
    "print(f\"Greatest Increase in Profits: {greatest_inc_month} ${greatest_inc_value:.0f}\")\n",
    "print(f\"Greatest Decrease in Profits: {greatest_dec_month} ${greatest_dec_value:.0f}\")"
   ]
  },
  {
   "cell_type": "code",
   "execution_count": 12,
   "id": "69efce9c-b310-470e-bac4-74329012e84d",
   "metadata": {
    "tags": []
   },
   "outputs": [],
   "source": [
    "#Financial_Analysis = os.path.join('Financial_Analysis.txt')\n",
    "\n",
    "file = open('Financial_Analysis.txt', 'w')\n",
    "with open (\"Financial_Analysis.txt\", 'w') as txt_file :\n",
    "    \n",
    "    file.write(\"Financial Analysis\\n\"\n",
    "              \"----------------------------\\n\"\n",
    "               f\"Total Months: {total_months}\\n\"\n",
    "               f\"Total: ${total_pl:.0f}\\n\"\n",
    "               f\"Average Change: ${average_change:.2f}\\n\"\n",
    "               f\"Greatest Increase in Profits: {greatest_inc_month} ${greatest_inc_value:.0f}\\n\"\n",
    "               f\"Greatest Decrease in Profits: {greatest_dec_month} ${greatest_dec_value:.0f}\")\n",
    "    file.close()\n",
    "    \n",
    "    "
   ]
  },
  {
   "cell_type": "code",
   "execution_count": null,
   "id": "843b13c4-cc50-4cb0-8c57-1e8cf2a2eb80",
   "metadata": {},
   "outputs": [],
   "source": []
  }
 ],
 "metadata": {
  "kernelspec": {
   "display_name": "Python 3 (ipykernel)",
   "language": "python",
   "name": "python3"
  },
  "language_info": {
   "codemirror_mode": {
    "name": "ipython",
    "version": 3
   },
   "file_extension": ".py",
   "mimetype": "text/x-python",
   "name": "python",
   "nbconvert_exporter": "python",
   "pygments_lexer": "ipython3",
   "version": "3.11.5"
  }
 },
 "nbformat": 4,
 "nbformat_minor": 5
}
