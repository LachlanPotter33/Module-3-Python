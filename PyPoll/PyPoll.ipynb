{
 "cells": [
  {
   "cell_type": "code",
   "execution_count": 50,
   "id": "21a82394-ead7-4c15-8ffc-fc6dc63db6e2",
   "metadata": {
    "tags": []
   },
   "outputs": [],
   "source": [
    "import os\n",
    "import csv"
   ]
  },
  {
   "cell_type": "code",
   "execution_count": 51,
   "id": "04d202dc-4d15-4c85-9d09-a7d1112bf00d",
   "metadata": {
    "tags": []
   },
   "outputs": [
    {
     "name": "stdout",
     "output_type": "stream",
     "text": [
      "<_csv.reader object at 0x000002CCBC87E7A0>\n"
     ]
    }
   ],
   "source": [
    "csv_path = os.path.join('Resources', 'election_data.csv')\n",
    "with open(csv_path) as csv_file:\n",
    "    \n",
    "        csv_reader = csv.reader(csv_file, delimiter=',')\n",
    "        print(csv_reader)\n",
    "        csv_header = next(csv_reader)\n",
    "        total_votes = 0\n",
    "        candidates = []\n",
    "        votes = []\n",
    "        for row in csv_reader:\n",
    "            total_votes += 1\n",
    "            if row[2] not in candidates:\n",
    "                candidates.append(row[2])\n",
    "                votes.append(1)\n",
    "            else:\n",
    "                index = candidates.index(row[2])\n",
    "                votes[index] += 1\n",
    "    \n",
    "        max_votes = max(votes)\n",
    "        max_index = votes.index(max_votes)\n",
    "        winner = candidates[max_index]\n",
    "        \n",
    "        percentages = []\n",
    "        for vote in votes:\n",
    "            percentages.append(vote/total_votes*100)\n",
    "            "
   ]
  },
  {
   "cell_type": "code",
   "execution_count": 52,
   "id": "3f16bc77-84a8-491d-96cc-11dc2f36b66b",
   "metadata": {
    "tags": []
   },
   "outputs": [
    {
     "name": "stdout",
     "output_type": "stream",
     "text": [
      "Election Results\n",
      "\n",
      "=======================\n",
      "\n",
      "Total Votes: 369711\n",
      "=======================\n",
      "\n",
      "Charles Casper Stockham: 23.049% 85213\n",
      "Diana DeGette: 73.812% 272892\n",
      "Raymon Anthony Doane: 3.139% 11606\n",
      "=======================\n",
      "\n",
      "Winner: Diana DeGette\n",
      "=======================\n",
      "\n"
     ]
    }
   ],
   "source": [
    "print(\"Election Results\\n\")\n",
    "print(\"=======================\\n\")\n",
    "print(f\"Total Votes: {total_votes:.0f}\")\n",
    "print(\"=======================\\n\")\n",
    "for place in range(len(votes)):\n",
    "    print(f\"{candidates[place]}: {percentages[place]:.3f}% {votes[place]:.0f}\")\n",
    "    \n",
    "print(\"=======================\\n\")\n",
    "print(f\"Winner: {winner}\")\n",
    "print(\"=======================\\n\")"
   ]
  },
  {
   "cell_type": "code",
   "execution_count": 53,
   "id": "b86fe792-acc4-4253-bf8b-a3f099101116",
   "metadata": {
    "tags": []
   },
   "outputs": [],
   "source": [
    "file = open('Election Results', 'w')\n",
    "with open (\"Election Results\", 'w') as txt_file :\n",
    "\n",
    "    file.write(\"Election Results\\n\")\n",
    "    file.write(\"=======================\\n\")\n",
    "    file.write(f\"Total Votes: {total_votes:.0f}\\n\")\n",
    "    file.write(\"=======================\\n\")\n",
    "    for place in range(len(votes)):\n",
    "        file.write(f\"{candidates[place]}: {percentages[place]:.3f}% ({votes[place]:.0f}\\n\")\n",
    "\n",
    "    file.write(\"=======================\\n\")\n",
    "    file.write(f\"Winner: {winner}\\n\")\n",
    "    file.write(\"=======================\\n\")\n",
    "file.close()"
   ]
  },
  {
   "cell_type": "code",
   "execution_count": null,
   "id": "fd8ca008-856e-4d0f-b5ed-5e85c71e8bfd",
   "metadata": {},
   "outputs": [],
   "source": []
  }
 ],
 "metadata": {
  "kernelspec": {
   "display_name": "Python 3 (ipykernel)",
   "language": "python",
   "name": "python3"
  },
  "language_info": {
   "codemirror_mode": {
    "name": "ipython",
    "version": 3
   },
   "file_extension": ".py",
   "mimetype": "text/x-python",
   "name": "python",
   "nbconvert_exporter": "python",
   "pygments_lexer": "ipython3",
   "version": "3.11.5"
  }
 },
 "nbformat": 4,
 "nbformat_minor": 5
}
